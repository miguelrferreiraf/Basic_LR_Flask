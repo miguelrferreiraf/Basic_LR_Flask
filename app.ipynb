{
 "cells": [
  {
   "cell_type": "markdown",
   "id": "4562abeb",
   "metadata": {},
   "source": [
    "# Teste para Flask Framework "
   ]
  },
  {
   "cell_type": "markdown",
   "id": "01461084",
   "metadata": {},
   "source": [
    "Este projeto contém um uso básico do Flask framework, que hospeda uma aplicação web que contém uma regressão linear básica. \n",
    "(This project isn't available in english)."
   ]
  },
  {
   "cell_type": "markdown",
   "id": "188b8d54",
   "metadata": {},
   "source": [
    "### Sumário"
   ]
  },
  {
   "cell_type": "markdown",
   "id": "c1640d4d",
   "metadata": {},
   "source": [
    "1. Instalação do framework\n",
    "2. Demonstração de um caso excepcional\n",
    "3. Obtenção de dados\n",
    "4. Criação e salvamento do modelo\n",
    "5. Criação da aplicação"
   ]
  },
  {
   "cell_type": "markdown",
   "id": "ab76eb54",
   "metadata": {},
   "source": [
    "### 1. Instalação do framework"
   ]
  },
  {
   "cell_type": "code",
   "execution_count": 5,
   "id": "e5472c52",
   "metadata": {},
   "outputs": [
    {
     "name": "stdout",
     "output_type": "stream",
     "text": [
      "Requirement already satisfied: flask in c:\\users\\marilhowska\\appdata\\local\\programs\\python\\python39\\lib\\site-packages (2.2.3)\n",
      "Requirement already satisfied: Werkzeug>=2.2.2 in c:\\users\\marilhowska\\appdata\\local\\programs\\python\\python39\\lib\\site-packages (from flask) (2.2.2)\n",
      "Requirement already satisfied: Jinja2>=3.0 in c:\\users\\marilhowska\\appdata\\local\\programs\\python\\python39\\lib\\site-packages (from flask) (3.1.2)\n",
      "Requirement already satisfied: itsdangerous>=2.0 in c:\\users\\marilhowska\\appdata\\local\\programs\\python\\python39\\lib\\site-packages (from flask) (2.1.2)\n",
      "Requirement already satisfied: click>=8.0 in c:\\users\\marilhowska\\appdata\\local\\programs\\python\\python39\\lib\\site-packages (from flask) (8.1.3)\n",
      "Requirement already satisfied: importlib-metadata>=3.6.0 in c:\\users\\marilhowska\\appdata\\local\\programs\\python\\python39\\lib\\site-packages (from flask) (5.1.0)\n",
      "Requirement already satisfied: colorama in c:\\users\\marilhowska\\appdata\\local\\programs\\python\\python39\\lib\\site-packages (from click>=8.0->flask) (0.4.6)\n",
      "Requirement already satisfied: zipp>=0.5 in c:\\users\\marilhowska\\appdata\\local\\programs\\python\\python39\\lib\\site-packages (from importlib-metadata>=3.6.0->flask) (3.11.0)\n",
      "Requirement already satisfied: MarkupSafe>=2.0 in c:\\users\\marilhowska\\appdata\\local\\programs\\python\\python39\\lib\\site-packages (from Jinja2>=3.0->flask) (2.1.1)\n"
     ]
    }
   ],
   "source": [
    "!pip install flask"
   ]
  },
  {
   "cell_type": "markdown",
   "id": "dd7c69f4",
   "metadata": {},
   "source": [
    "### 2. Demonstração de um caso excepcional"
   ]
  },
  {
   "cell_type": "markdown",
   "id": "b8bf7b85",
   "metadata": {},
   "source": [
    "Talvez por falta de manutenção, o framework Flask agora precisa que o servidor WSGI Werkzeug seja importado manualmente na ocasião de o desenvolvedor necessitar de uma porta específica do localhost. Mais sobre isso no READ.me."
   ]
  },
  {
   "cell_type": "code",
   "execution_count": 4,
   "id": "f0323b92",
   "metadata": {},
   "outputs": [
    {
     "data": {
      "text/plain": [
       "'\\nfrom werkzeug.wrappers import Request, Response\\nfrom flask import Flask\\n\\napp = Flask(__name__)\\n\\n@app.route(\"/\")\\ndef hello():\\n    return \"Hello World!\"\\n\\nif __name__ == \\'__main__\\':\\n    from werkzeug.serving import run_simple\\n    run_simple(\\'localhost\\', 9000, app)\\n'"
      ]
     },
     "execution_count": 4,
     "metadata": {},
     "output_type": "execute_result"
    }
   ],
   "source": [
    "'''\n",
    "from werkzeug.wrappers import Request, Response\n",
    "from flask import Flask\n",
    "\n",
    "app = Flask(__name__)\n",
    "\n",
    "@app.route(\"/\")\n",
    "def hello():\n",
    "    return \"Hello World!\"\n",
    "\n",
    "if __name__ == '__main__':\n",
    "    from werkzeug.serving import run_simple\n",
    "    run_simple('localhost', 9000, app)\n",
    "'''"
   ]
  },
  {
   "cell_type": "markdown",
   "id": "c613128d",
   "metadata": {},
   "source": [
    "### 3. Obtenção de dados"
   ]
  },
  {
   "cell_type": "code",
   "execution_count": 6,
   "id": "855fe6df",
   "metadata": {},
   "outputs": [],
   "source": [
    "import pandas as pd\n",
    "import numpy as np\n",
    "from sklearn.linear_model import LinearRegression\n",
    "import joblib"
   ]
  },
  {
   "cell_type": "code",
   "execution_count": 7,
   "id": "51121182",
   "metadata": {},
   "outputs": [
    {
     "data": {
      "text/html": [
       "<div>\n",
       "<style scoped>\n",
       "    .dataframe tbody tr th:only-of-type {\n",
       "        vertical-align: middle;\n",
       "    }\n",
       "\n",
       "    .dataframe tbody tr th {\n",
       "        vertical-align: top;\n",
       "    }\n",
       "\n",
       "    .dataframe thead th {\n",
       "        text-align: right;\n",
       "    }\n",
       "</style>\n",
       "<table border=\"1\" class=\"dataframe\">\n",
       "  <thead>\n",
       "    <tr style=\"text-align: right;\">\n",
       "      <th></th>\n",
       "      <th>var_1</th>\n",
       "      <th>var_2</th>\n",
       "      <th>var_3</th>\n",
       "      <th>var_4</th>\n",
       "      <th>var_5</th>\n",
       "      <th>output</th>\n",
       "    </tr>\n",
       "  </thead>\n",
       "  <tbody>\n",
       "    <tr>\n",
       "      <th>935</th>\n",
       "      <td>608</td>\n",
       "      <td>543</td>\n",
       "      <td>92</td>\n",
       "      <td>0.313</td>\n",
       "      <td>0.251</td>\n",
       "      <td>0.349</td>\n",
       "    </tr>\n",
       "    <tr>\n",
       "      <th>819</th>\n",
       "      <td>651</td>\n",
       "      <td>701</td>\n",
       "      <td>78</td>\n",
       "      <td>0.314</td>\n",
       "      <td>0.262</td>\n",
       "      <td>0.383</td>\n",
       "    </tr>\n",
       "    <tr>\n",
       "      <th>36</th>\n",
       "      <td>735</td>\n",
       "      <td>720</td>\n",
       "      <td>79</td>\n",
       "      <td>0.326</td>\n",
       "      <td>0.256</td>\n",
       "      <td>0.408</td>\n",
       "    </tr>\n",
       "    <tr>\n",
       "      <th>921</th>\n",
       "      <td>737</td>\n",
       "      <td>688</td>\n",
       "      <td>83</td>\n",
       "      <td>0.330</td>\n",
       "      <td>0.270</td>\n",
       "      <td>0.388</td>\n",
       "    </tr>\n",
       "    <tr>\n",
       "      <th>41</th>\n",
       "      <td>615</td>\n",
       "      <td>796</td>\n",
       "      <td>56</td>\n",
       "      <td>0.311</td>\n",
       "      <td>0.258</td>\n",
       "      <td>0.374</td>\n",
       "    </tr>\n",
       "  </tbody>\n",
       "</table>\n",
       "</div>"
      ],
      "text/plain": [
       "     var_1  var_2  var_3  var_4  var_5  output\n",
       "935    608    543     92  0.313  0.251   0.349\n",
       "819    651    701     78  0.314  0.262   0.383\n",
       "36     735    720     79  0.326  0.256   0.408\n",
       "921    737    688     83  0.330  0.270   0.388\n",
       "41     615    796     56  0.311  0.258   0.374"
      ]
     },
     "execution_count": 7,
     "metadata": {},
     "output_type": "execute_result"
    }
   ],
   "source": [
    "df=pd.read_csv('https://raw.githubusercontent.com/Apress/deploy-ml-models-production/main/Ch03/LR_flask/Linear_regression_dataset.csv',header='infer')\n",
    "df.sample(5)"
   ]
  },
  {
   "cell_type": "markdown",
   "id": "c3e23c21",
   "metadata": {},
   "source": [
    "### 4. Criação e salvamento do modelo"
   ]
  },
  {
   "cell_type": "code",
   "execution_count": 8,
   "id": "c1b275b5",
   "metadata": {},
   "outputs": [
    {
     "data": {
      "text/plain": [
       "0.8692670151914199"
      ]
     },
     "execution_count": 8,
     "metadata": {},
     "output_type": "execute_result"
    }
   ],
   "source": [
    "X=df.loc[:,df.columns !='output']\n",
    "y=df['output']\n",
    "lr = LinearRegression().fit(X, y)\n",
    "lr.score(X,y)\n"
   ]
  },
  {
   "cell_type": "code",
   "execution_count": 6,
   "id": "aa161748",
   "metadata": {},
   "outputs": [
    {
     "data": {
      "text/plain": [
       "['linear_regression_model.pkl']"
      ]
     },
     "execution_count": 6,
     "metadata": {},
     "output_type": "execute_result"
    }
   ],
   "source": [
    "joblib.dump(lr,'linear_regression_model.pkl')"
   ]
  },
  {
   "cell_type": "markdown",
   "id": "6f179b5f",
   "metadata": {},
   "source": [
    "### 5. Criação da aplicação\n",
    "\n",
    "Já que estamos preocupados apenas com o funcionamento do back-end, usamos a função `render_template` (uma solução não muito sofisticada, mas mais prática) para renderizar um arquivo html que nos concederá tanto um template para a rota 'home' quanto para a rota 'predict'. Ambos os templates devem ficar disponíveis numa pasta avulsa, dentro da mesma pasta em que se encontra o arquivo app.py (ou .ipynb) do aplicativo. "
   ]
  },
  {
   "cell_type": "code",
   "execution_count": 2,
   "id": "9be0d426",
   "metadata": {},
   "outputs": [],
   "source": [
    "import pandas as pd \n",
    "import numpy as np\n",
    "import sklearn\n",
    "import joblib\n",
    "from flask import Flask, render_template, request\n",
    "from werkzeug.wrappers import Request, Response\n",
    "\n",
    "app=Flask(__name__)\n",
    "\n",
    "@app.route('/')\n",
    "\n",
    "def home():\n",
    "    return render_template('home.html')\n",
    "\n",
    "\n",
    "@app.route('/predict',methods=['GET','POST'])\n",
    "\n",
    "def predict():\n",
    "    if request.method =='POST':\n",
    "        print(request.form.get('var_1'))\n",
    "        print(request.form.get('var_2'))\n",
    "        print(request.form.get('var_3'))\n",
    "        print(request.form.get('var_4'))\n",
    "        print(request.form.get('var_5'))\n",
    "        try:\n",
    "            var_1=float(request.form['var_1'])\n",
    "            var_2=float(request.form['var_2'])\n",
    "            var_3=float(request.form['var_3'])\n",
    "            var_4=float(request.form['var_4'])\n",
    "            var_5=float(request.form['var_5'])\n",
    "            pred_args=[var_1,var_2,var_3,var_4,var_5]\n",
    "            pred_arr=np.array(pred_args)\n",
    "            preds=pred_arr.reshape(1,-1)\n",
    "            model=open(\"linear_regression_model.pkl\",\"rb\")\n",
    "\n",
    "            lr_model=joblib.load(model)\n",
    "            model_prediction=lr_model.predict(preds)\n",
    "            model_prediction=round(float(model_prediction),2)\n",
    "        except ValueError:\n",
    "            return \"Please Enter valid values\"\n",
    "    return render_template('predict.html',prediction=model_prediction)\n"
   ]
  },
  {
   "cell_type": "markdown",
   "id": "04043fcc",
   "metadata": {},
   "source": [
    "Abaixo, a aplicação é rodada."
   ]
  },
  {
   "cell_type": "code",
   "execution_count": 3,
   "id": "60a82bde",
   "metadata": {},
   "outputs": [
    {
     "name": "stdout",
     "output_type": "stream",
     "text": [
      " * Serving Flask app '__main__'\n",
      " * Debug mode: off\n"
     ]
    },
    {
     "name": "stderr",
     "output_type": "stream",
     "text": [
      "WARNING: This is a development server. Do not use it in a production deployment. Use a production WSGI server instead.\n",
      " * Running on all addresses (0.0.0.0)\n",
      " * Running on http://127.0.0.1:5000\n",
      " * Running on http://192.168.0.6:5000\n",
      "Press CTRL+C to quit\n",
      "127.0.0.1 - - [21/Jul/2023 20:33:37] \"GET / HTTP/1.1\" 200 -\n"
     ]
    }
   ],
   "source": [
    "if __name__ == '__main__':\n",
    "    app.run(host='0.0.0.0')"
   ]
  },
  {
   "cell_type": "markdown",
   "id": "86fd9cc0",
   "metadata": {},
   "source": [
    "# FIM"
   ]
  }
 ],
 "metadata": {
  "kernelspec": {
   "display_name": "Python 3 (ipykernel)",
   "language": "python",
   "name": "python3"
  },
  "language_info": {
   "codemirror_mode": {
    "name": "ipython",
    "version": 3
   },
   "file_extension": ".py",
   "mimetype": "text/x-python",
   "name": "python",
   "nbconvert_exporter": "python",
   "pygments_lexer": "ipython3",
   "version": "3.9.7"
  }
 },
 "nbformat": 4,
 "nbformat_minor": 5
}
